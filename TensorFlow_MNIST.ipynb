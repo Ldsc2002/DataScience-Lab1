{
 "cells": [
  {
   "cell_type": "markdown",
   "metadata": {},
   "source": [
    "# Red Neuronal Profunda (DNN) para clasificación MNIST\n",
    "\n",
    "Aplicaremos todos nuestros conocimientos para crear una DNN.  El problema que vamos a trabajar se conoce como el \"Hola Mundo\" del aprendizaje profundo porque para la mayoría de estudiantes este es el primer algoritmo de aprendizaje profundo que ven. \n",
    "\n",
    "El conjunto de datos se llama MNIST y se refiere al reconocimiento de dígitos escritos a mano.  Pueden encontrar más información en el sitio web de Yann LeCun (Director of AI Research, Facebook).  El es uno de los pioneros de todo este tema, así como de otras metodologías más complejas como las Redes Neurales Convolucionales (CNN) que se utilizan hoy día.\n",
    "\n",
    "El conjunto de datos tiene 70,000 imágenes (28x28 pixels) de dígitos escritos a mano (1 dígito por imagen).\n",
    "\n",
    "La meta es escribir un algoritmo que detecta qué dígito ha sido escrito.  Como solo hay 10 dígitos (0 al 9), este es un problema de clasificación con 10 clases.\n",
    "\n",
    "Nuestra meta será construir una RN con 2 capas escondidas."
   ]
  },
  {
   "cell_type": "markdown",
   "metadata": {},
   "source": [
    "## Importar los paquetes relevantes\n",
    "\n",
    "TensorFlow incluye un proveedor de datos de MNIST que utilizaremos acá.  Viene con el módulo **\"tensorflow-datasets\"** por lo que si no lo ha instalado aún, debe hacerlo:\n",
    "\n",
    "pip install tensorflow-datasets\n",
    "\n",
    "ó\n",
    "\n",
    "conda install tensorflow-datasets\n",
    "\n",
    "Estos conjuntos de datos se almacenarán en su directorio C:\\Users\\usuario\\tensorflow_datasets|...\n",
    "\n",
    "La primera vez que baje un conjunto de datos, se almacenará en la carpeta respectiva.  Cada vez subsiguiente, automáticamente cargará la copia en su computadora"
   ]
  },
  {
   "cell_type": "code",
   "execution_count": 1098,
   "metadata": {
    "tags": []
   },
   "outputs": [],
   "source": [
    "import numpy as np\n",
    "import tensorflow as tf\n",
    "import tensorflow_datasets as tfds"
   ]
  },
  {
   "cell_type": "markdown",
   "metadata": {},
   "source": [
    "## Datos\n",
    "\n",
    "Esta sección es donde pre-procesaremos nuestros datos.\n",
    "\n",
    "**tfd.load** carga un conjunto de datos (o si es la primera vez, los baja y luego los carga).  En este caso estamos interesados en el conjunto de datos MNIST.  El único argumento obligatorio es el nombre del conjunto de datos.  Hay otros que pueden ser útiles, por ejemplo:\n",
    "\n",
    "**with_info = True** nos provee con una tupla que contiene información sobre la versión, features, número de observaciones (samples)\n",
    "\n",
    "**as_supervised = True** cargará el conjunto de datos en una estructura de 2 tuplas (entrada, meta).  Si se usa **False**, retorna un diccionario, obviamente preferimos tener de una vez nuestra entrada y meta separados."
   ]
  },
  {
   "cell_type": "code",
   "execution_count": 1099,
   "metadata": {},
   "outputs": [],
   "source": [
    "datos_mnist, info_mnist = tfds.load(\n",
    "    name='mnist',\n",
    "    shuffle_files = False,\n",
    "    with_info=True, \n",
    "    as_supervised=True\n",
    ")"
   ]
  },
  {
   "cell_type": "markdown",
   "metadata": {},
   "source": [
    "Una vez se ha cargado el conjunto de datos, se pueden, fácilmente, extraer los conjuntos de entrenamiento y prueba."
   ]
  },
  {
   "cell_type": "code",
   "execution_count": 1100,
   "metadata": {},
   "outputs": [],
   "source": [
    "entreno_mnist, prueba_mnist = datos_mnist['train'], datos_mnist['test']"
   ]
  },
  {
   "cell_type": "markdown",
   "metadata": {},
   "source": [
    "Por default, TF2 tiene conjuntos de datos de entrenamiento y de prueba, pero no tiene un conjunto de validación, por lo que debemos dividirlo por nuestra cuenta\n",
    "\n",
    "Empezamos por definir el número de observaciones de validación, como un porcentaje de las observaciones de entrenamiento.  Aqui es donde también usamos **mnist_info** (no tenemos que contar las observaciones)"
   ]
  },
  {
   "cell_type": "code",
   "execution_count": 1101,
   "metadata": {},
   "outputs": [],
   "source": [
    "num_obs_validacion = 0.1 * info_mnist.splits['train'].num_examples"
   ]
  },
  {
   "cell_type": "markdown",
   "metadata": {},
   "source": [
    "Convertimos este número a entero ya que un float puede causar problemas en el camino"
   ]
  },
  {
   "cell_type": "code",
   "execution_count": 1102,
   "metadata": {},
   "outputs": [],
   "source": [
    "num_obs_validacion = tf.cast(num_obs_validacion, tf.int64)"
   ]
  },
  {
   "cell_type": "markdown",
   "metadata": {},
   "source": [
    "Usaremos una variable dedicada para el número de muestras de prueba"
   ]
  },
  {
   "cell_type": "code",
   "execution_count": 1103,
   "metadata": {},
   "outputs": [],
   "source": [
    "num_obs_prueba = info_mnist.splits['test'].num_examples"
   ]
  },
  {
   "cell_type": "code",
   "execution_count": 1104,
   "metadata": {},
   "outputs": [],
   "source": [
    "num_obs_prueba = tf.cast(num_obs_prueba, tf.int64)"
   ]
  },
  {
   "cell_type": "markdown",
   "metadata": {},
   "source": [
    "Normalmente preferimos \"normalizar\" nuestros datos en alguna forma para que el resultado sea numéricamente más estable.  En este caso simplemente preferimos tener entradas entre 0 y 1, por lo que definimos una función, que reciba la imagen MNIST y su etiqueta, para hacerlo.\n",
    "\n",
    "Como los posibles valores de las entradas son entre 0 y 255 (256 posibles tonos de gris), al dividirlos por 255 obtenemos el resultado deseado."
   ]
  },
  {
   "cell_type": "code",
   "execution_count": 1105,
   "metadata": {},
   "outputs": [],
   "source": [
    "def normalizar(imagen, etiqueta):\n",
    "    imagen = tf.cast(imagen, tf.float32)\n",
    "    imagen /= 255.\n",
    "    return imagen, etiqueta"
   ]
  },
  {
   "cell_type": "markdown",
   "metadata": {},
   "source": [
    "El método .map() nos permite aplicar una transormación \"customizada\" a un conjunto de datos.  Ya hemos decidido que obtendremos los datos de validación a partir de *mnist_train*"
   ]
  },
  {
   "cell_type": "code",
   "execution_count": 1106,
   "metadata": {
    "tags": []
   },
   "outputs": [],
   "source": [
    "datos_entrenamiento_y_validacion_normalizados = entreno_mnist.map(normalizar)"
   ]
  },
  {
   "cell_type": "markdown",
   "metadata": {},
   "source": [
    "Finalmente, normalizaremos y convertiremos los datos de pruebas en tandas.  Los normalizamos para que tengan la misma magnitud que los datos de entrenamiento y validación.\n",
    "\n",
    "No hay necesidad de \"barajearlo\" ya que no estaremos entrenando con los datos de prueba.  Habra una sola tanda, igual al tamaño de los datos de prueba."
   ]
  },
  {
   "cell_type": "code",
   "execution_count": 1107,
   "metadata": {},
   "outputs": [],
   "source": [
    "datos_prueba = prueba_mnist.map(normalizar)"
   ]
  },
  {
   "cell_type": "markdown",
   "metadata": {},
   "source": [
    "Si \"barajearemos\" los datos de entrenamiento y validación.\n",
    "\n",
    "El parámetro **TAMANIO_BUFFER** se utiliza para casos que tengan conjuntos de datos grandes.  En este caso no es posible \"barajear\" el conjunto completo de un solo porque no cabe en la memoria.  En vez, TF2 solo almacena los datos en memoria **TAMANIO_BUFFER** muestras a la vez, y los \"barajea\".\n",
    "\n",
    "si TAMANIO_BUFFER = 1 => no hay \"barajeo\"\n",
    "si TAMANIO_BUFFER >= número de muestras => el \"barajeo\" se hace uniformemente\n",
    "\n",
    "para un TAMANIO_BUFFER intermedio - se hace una optimización computacional para aproximar un \"barajeo\" uniforme.\n",
    "\n",
    "Afortunadamente, hay un método de \"barajeo\" disponible y solo necesitamos especificar el tamaño del buffer."
   ]
  },
  {
   "cell_type": "code",
   "execution_count": 1108,
   "metadata": {},
   "outputs": [],
   "source": [
    "TAMANIO_BUFFER = 10000"
   ]
  },
  {
   "cell_type": "code",
   "execution_count": 1109,
   "metadata": {},
   "outputs": [],
   "source": [
    "datos_entrenamiento_y_validacion_barajeados = datos_entrenamiento_y_validacion_normalizados.shuffle(TAMANIO_BUFFER)"
   ]
  },
  {
   "cell_type": "markdown",
   "metadata": {},
   "source": [
    "Una vez se han \"normalizado\" y \"barajeado\" los datos, podemos proceder a extraer los datos de entrenamiento y de validación.\n",
    "\n",
    "Nuestros datos de validación serán el 10% del conjunto de entrenamiento, que ya se calculó utilizando el método **.take()**.\n",
    "\n",
    "Finalmente, creamos una tanda con un tamaño de tanda igual al total de muestras de validación."
   ]
  },
  {
   "cell_type": "code",
   "execution_count": 1110,
   "metadata": {},
   "outputs": [],
   "source": [
    "datos_validacion = datos_entrenamiento_y_validacion_barajeados.take(num_obs_validacion)"
   ]
  },
  {
   "cell_type": "markdown",
   "metadata": {},
   "source": [
    "Similarmente, los datos de entrenamiento son todos los demás por lo que nos salteamos tantas observaciones como las hay en el conjunto de validación."
   ]
  },
  {
   "cell_type": "code",
   "execution_count": 1111,
   "metadata": {},
   "outputs": [],
   "source": [
    "datos_entreno = datos_entrenamiento_y_validacion_barajeados.skip(num_obs_validacion)"
   ]
  },
  {
   "cell_type": "markdown",
   "metadata": {},
   "source": [
    "Establecemos el tamaño de las tandas.\n",
    "\n",
    "También podemos aprovechar el momento para separar los datos de entrenamiento y de prueba.\n",
    "\n",
    "Estos serán muy útiles cuando entrenemos, ya que podemos iterar sobre las diferentes tandas"
   ]
  },
  {
   "cell_type": "code",
   "execution_count": 1112,
   "metadata": {},
   "outputs": [],
   "source": [
    "TAMANIO_TANDA = 16\n",
    "\n",
    "datos_entreno = datos_entreno.batch(TAMANIO_TANDA)\n",
    "\n",
    "datos_validacion = datos_validacion.batch(num_obs_validacion)\n",
    "\n",
    "datos_prueba = datos_prueba.batch(num_obs_prueba)"
   ]
  },
  {
   "cell_type": "markdown",
   "metadata": {},
   "source": [
    "Toma la siguiente tanda (es la única tanda) ya que, como configuramos **as_supervized = True**, obtuvimos una estructura de 2 tuplas "
   ]
  },
  {
   "cell_type": "code",
   "execution_count": 1113,
   "metadata": {},
   "outputs": [
    {
     "name": "stderr",
     "output_type": "stream",
     "text": [
      "2023-08-05 22:28:25.147877: W tensorflow/core/kernels/data/cache_dataset_ops.cc:856] The calling iterator did not fully read the dataset being cached. In order to avoid unexpected truncation of the dataset, the partially cached contents of the dataset  will be discarded. This can happen if you have an input pipeline similar to `dataset.cache().take(k).repeat()`. You should use `dataset.take(k).cache().repeat()` instead.\n"
     ]
    }
   ],
   "source": [
    "entradas_validacion, metas_validacion = next(iter(datos_validacion))"
   ]
  },
  {
   "cell_type": "markdown",
   "metadata": {},
   "source": [
    "## Modelo"
   ]
  },
  {
   "cell_type": "markdown",
   "metadata": {},
   "source": [
    "### Delineamos el modelo\n",
    "\n",
    "Cuando pensamos sobre un algoritmo de aprenzaje profundo, casi siempre solo lo imaginamos.  Asi que esta vez, hagámoslo.  :)"
   ]
  },
  {
   "cell_type": "code",
   "execution_count": 1114,
   "metadata": {
    "tags": []
   },
   "outputs": [],
   "source": [
    "tamanio_entrada = 784\n",
    "tamanio_salida = 10"
   ]
  },
  {
   "cell_type": "markdown",
   "metadata": {},
   "source": [
    "Usaremos el mismo ancho para ambas capas escondidas.  No es una necesidad!"
   ]
  },
  {
   "cell_type": "code",
   "execution_count": 1115,
   "metadata": {},
   "outputs": [],
   "source": [
    "tamanio_capa_escondida = 256"
   ]
  },
  {
   "cell_type": "markdown",
   "metadata": {},
   "source": [
    "# Definimos cómo se verá el modelo\n",
    "\n",
    "La primera capa (la de entrada):  cada observación es de 28x28x1 píxeles, por lo tanto es un tensor de rango 3.\n",
    "\n",
    "Como aún no hemos aprendido sobre CNNs, no sabemos como alimentar este tipo de entrada a nuestra red, por lo tanto hay que \"aplanar\" las imágenes.  Hay un método conveniente **Flatten** que toma nuestro tensor de 28x28x1 y lo convierte en  un vector (None), o (784,)...porque 28x28x1 = 784.  Esto nos permite crear una red de alimentación hacia adelante.\n",
    "\n",
    "    \n",
    "**tf.keras.layers.Dense** básicamente implementa:  output = activation(dot(entrada, peso) + sesgo).  Requiere varios argumentos, pero los más importantes para nosotros son el ancho de la capa escondida y la función de activación.\n",
    "\n",
    "La capa final no es diferente, solo nos aseguramos de activarla con **softmax**\n"
   ]
  },
  {
   "cell_type": "code",
   "execution_count": 1116,
   "metadata": {},
   "outputs": [],
   "source": [
    "modelo = tf.keras.Sequential([\n",
    "\n",
    "    tf.keras.layers.Flatten(input_shape=(28, 28, 1)), # capa entrada\n",
    "    \n",
    "    tf.keras.layers.Dense(tamanio_capa_escondida, activation='relu'), # 1era capa escondida\n",
    "    tf.keras.layers.Dense(tamanio_capa_escondida, activation='tanh'), # 2nda capa escondida\n",
    "    # tf.keras.layers.Dense(tamanio_capa_escondida, activation='relu'), # 3era capa escondida\n",
    "    # tf.keras.layers.Dense(tamanio_capa_escondida, activation='relu'), # 3era capa escondida\n",
    "    # tf.keras.layers.Dense(tamanio_capa_escondida, activation='relu'), # 3era capa escondida\n",
    "\n",
    "    tf.keras.layers.Dense(tamanio_salida, activation='softmax') # capa salida\n",
    "])"
   ]
  },
  {
   "cell_type": "markdown",
   "metadata": {},
   "source": [
    "### Seleccionar el optimizador y la función de pérdida"
   ]
  },
  {
   "cell_type": "markdown",
   "metadata": {
    "tags": []
   },
   "source": [
    "Definimos el optimizador que nos gustaría utilizar, la función de pérdida, y las métricas que nos interesa obtener en cada interacción"
   ]
  },
  {
   "cell_type": "code",
   "execution_count": 1117,
   "metadata": {},
   "outputs": [
    {
     "name": "stderr",
     "output_type": "stream",
     "text": [
      "WARNING:absl:At this time, the v2.11+ optimizer `tf.keras.optimizers.Adam` runs slowly on M1/M2 Macs, please use the legacy Keras optimizer instead, located at `tf.keras.optimizers.legacy.Adam`.\n",
      "WARNING:absl:There is a known slowdown when using v2.11+ Keras optimizers on M1/M2 Macs. Falling back to the legacy Keras optimizer, i.e., `tf.keras.optimizers.legacy.Adam`.\n"
     ]
    }
   ],
   "source": [
    "optimizer = tf.keras.optimizers.Adam()\n",
    "modelo.compile(optimizer=optimizer, loss='sparse_categorical_crossentropy', metrics=['accuracy'])"
   ]
  },
  {
   "cell_type": "markdown",
   "metadata": {},
   "source": [
    "### Entrenamiento\n",
    "\n",
    "Acá es donde entrenamos el modelo que hemos construído\n",
    "\n",
    "Determinamos el número máximo de épocas.\n",
    "\n",
    "Ajustamos el modelo , especificando:\n",
    "\n",
    "* los datos de entrenamiento\n",
    "* el número total de épocas\n",
    "* y los datos de validación que creamos en el formato (entradas, metas)"
   ]
  },
  {
   "cell_type": "code",
   "execution_count": 1118,
   "metadata": {},
   "outputs": [
    {
     "name": "stdout",
     "output_type": "stream",
     "text": [
      "Epoch 1/50\n"
     ]
    },
    {
     "name": "stdout",
     "output_type": "stream",
     "text": [
      "3375/3375 - 23s - loss: 0.1954 - accuracy: 0.9405 - val_loss: 0.1230 - val_accuracy: 0.9608 - 23s/epoch - 7ms/step\n",
      "Epoch 2/50\n",
      "3375/3375 - 20s - loss: 0.0917 - accuracy: 0.9719 - val_loss: 0.0729 - val_accuracy: 0.9778 - 20s/epoch - 6ms/step\n",
      "Epoch 3/50\n",
      "3375/3375 - 21s - loss: 0.0647 - accuracy: 0.9790 - val_loss: 0.0787 - val_accuracy: 0.9758 - 21s/epoch - 6ms/step\n",
      "Epoch 4/50\n",
      "3375/3375 - 20s - loss: 0.0505 - accuracy: 0.9837 - val_loss: 0.0552 - val_accuracy: 0.9817 - 20s/epoch - 6ms/step\n",
      "Epoch 5/50\n",
      "3375/3375 - 20s - loss: 0.0400 - accuracy: 0.9870 - val_loss: 0.0413 - val_accuracy: 0.9870 - 20s/epoch - 6ms/step\n",
      "Epoch 6/50\n",
      "3375/3375 - 20s - loss: 0.0329 - accuracy: 0.9896 - val_loss: 0.0338 - val_accuracy: 0.9895 - 20s/epoch - 6ms/step\n",
      "Epoch 7/50\n",
      "3375/3375 - 19s - loss: 0.0299 - accuracy: 0.9906 - val_loss: 0.0391 - val_accuracy: 0.9867 - 19s/epoch - 6ms/step\n",
      "Epoch 8/50\n",
      "3375/3375 - 20s - loss: 0.0238 - accuracy: 0.9916 - val_loss: 0.0339 - val_accuracy: 0.9910 - 20s/epoch - 6ms/step\n",
      "Epoch 9/50\n",
      "3375/3375 - 20s - loss: 0.0215 - accuracy: 0.9933 - val_loss: 0.0282 - val_accuracy: 0.9927 - 20s/epoch - 6ms/step\n",
      "Epoch 10/50\n",
      "3375/3375 - 21s - loss: 0.0200 - accuracy: 0.9935 - val_loss: 0.0209 - val_accuracy: 0.9922 - 21s/epoch - 6ms/step\n",
      "Epoch 11/50\n",
      "3375/3375 - 20s - loss: 0.0149 - accuracy: 0.9949 - val_loss: 0.0206 - val_accuracy: 0.9938 - 20s/epoch - 6ms/step\n",
      "Epoch 12/50\n",
      "3375/3375 - 19s - loss: 0.0162 - accuracy: 0.9949 - val_loss: 0.0341 - val_accuracy: 0.9897 - 19s/epoch - 6ms/step\n",
      "Epoch 13/50\n",
      "3375/3375 - 20s - loss: 0.0153 - accuracy: 0.9950 - val_loss: 0.0344 - val_accuracy: 0.9897 - 20s/epoch - 6ms/step\n",
      "Epoch 14/50\n",
      "3375/3375 - 21s - loss: 0.0134 - accuracy: 0.9956 - val_loss: 0.0129 - val_accuracy: 0.9953 - 21s/epoch - 6ms/step\n",
      "Epoch 15/50\n",
      "3375/3375 - 19s - loss: 0.0111 - accuracy: 0.9964 - val_loss: 0.0121 - val_accuracy: 0.9958 - 19s/epoch - 6ms/step\n",
      "Epoch 16/50\n",
      "3375/3375 - 19s - loss: 0.0123 - accuracy: 0.9960 - val_loss: 0.0095 - val_accuracy: 0.9968 - 19s/epoch - 6ms/step\n",
      "Epoch 17/50\n",
      "3375/3375 - 22s - loss: 0.0103 - accuracy: 0.9970 - val_loss: 0.0172 - val_accuracy: 0.9942 - 22s/epoch - 6ms/step\n",
      "Epoch 18/50\n",
      "3375/3375 - 19s - loss: 0.0120 - accuracy: 0.9962 - val_loss: 0.0086 - val_accuracy: 0.9967 - 19s/epoch - 6ms/step\n",
      "Epoch 19/50\n",
      "3375/3375 - 18s - loss: 0.0083 - accuracy: 0.9972 - val_loss: 0.0275 - val_accuracy: 0.9933 - 18s/epoch - 5ms/step\n",
      "Epoch 20/50\n",
      "3375/3375 - 18s - loss: 0.0114 - accuracy: 0.9963 - val_loss: 0.0191 - val_accuracy: 0.9953 - 18s/epoch - 5ms/step\n",
      "Epoch 21/50\n",
      "3375/3375 - 18s - loss: 0.0097 - accuracy: 0.9967 - val_loss: 0.0166 - val_accuracy: 0.9947 - 18s/epoch - 5ms/step\n",
      "Epoch 22/50\n",
      "3375/3375 - 19s - loss: 0.0082 - accuracy: 0.9975 - val_loss: 0.0080 - val_accuracy: 0.9968 - 19s/epoch - 6ms/step\n",
      "Epoch 23/50\n",
      "3375/3375 - 20s - loss: 0.0081 - accuracy: 0.9975 - val_loss: 0.0200 - val_accuracy: 0.9950 - 20s/epoch - 6ms/step\n",
      "Epoch 24/50\n",
      "3375/3375 - 19s - loss: 0.0079 - accuracy: 0.9974 - val_loss: 0.0108 - val_accuracy: 0.9965 - 19s/epoch - 6ms/step\n",
      "Epoch 25/50\n",
      "3375/3375 - 21s - loss: 0.0079 - accuracy: 0.9975 - val_loss: 0.0093 - val_accuracy: 0.9975 - 21s/epoch - 6ms/step\n",
      "Epoch 26/50\n",
      "3375/3375 - 21s - loss: 0.0081 - accuracy: 0.9974 - val_loss: 0.0197 - val_accuracy: 0.9958 - 21s/epoch - 6ms/step\n",
      "Epoch 27/50\n",
      "3375/3375 - 18s - loss: 0.0056 - accuracy: 0.9983 - val_loss: 0.0101 - val_accuracy: 0.9973 - 18s/epoch - 5ms/step\n",
      "Epoch 28/50\n",
      "3375/3375 - 18s - loss: 0.0076 - accuracy: 0.9978 - val_loss: 0.0067 - val_accuracy: 0.9975 - 18s/epoch - 5ms/step\n",
      "Epoch 29/50\n",
      "3375/3375 - 21s - loss: 0.0054 - accuracy: 0.9984 - val_loss: 0.0089 - val_accuracy: 0.9975 - 21s/epoch - 6ms/step\n",
      "Epoch 30/50\n",
      "3375/3375 - 20s - loss: 0.0072 - accuracy: 0.9978 - val_loss: 0.0061 - val_accuracy: 0.9983 - 20s/epoch - 6ms/step\n",
      "Epoch 31/50\n",
      "3375/3375 - 19s - loss: 0.0069 - accuracy: 0.9978 - val_loss: 0.0036 - val_accuracy: 0.9992 - 19s/epoch - 6ms/step\n",
      "Epoch 32/50\n",
      "3375/3375 - 20s - loss: 0.0060 - accuracy: 0.9983 - val_loss: 0.0121 - val_accuracy: 0.9967 - 20s/epoch - 6ms/step\n",
      "Epoch 33/50\n",
      "3375/3375 - 20s - loss: 0.0083 - accuracy: 0.9978 - val_loss: 0.0069 - val_accuracy: 0.9980 - 20s/epoch - 6ms/step\n",
      "Epoch 34/50\n",
      "3375/3375 - 21s - loss: 0.0066 - accuracy: 0.9979 - val_loss: 0.0054 - val_accuracy: 0.9983 - 21s/epoch - 6ms/step\n",
      "Epoch 35/50\n",
      "3375/3375 - 20s - loss: 0.0057 - accuracy: 0.9981 - val_loss: 0.0089 - val_accuracy: 0.9968 - 20s/epoch - 6ms/step\n",
      "Epoch 36/50\n",
      "3375/3375 - 20s - loss: 0.0039 - accuracy: 0.9986 - val_loss: 0.0058 - val_accuracy: 0.9975 - 20s/epoch - 6ms/step\n",
      "Epoch 37/50\n",
      "3375/3375 - 20s - loss: 0.0073 - accuracy: 0.9977 - val_loss: 0.0055 - val_accuracy: 0.9987 - 20s/epoch - 6ms/step\n",
      "Epoch 38/50\n",
      "3375/3375 - 20s - loss: 0.0053 - accuracy: 0.9983 - val_loss: 0.0054 - val_accuracy: 0.9980 - 20s/epoch - 6ms/step\n",
      "Epoch 39/50\n",
      "3375/3375 - 21s - loss: 0.0067 - accuracy: 0.9980 - val_loss: 0.0119 - val_accuracy: 0.9973 - 21s/epoch - 6ms/step\n",
      "Epoch 40/50\n",
      "3375/3375 - 22s - loss: 0.0054 - accuracy: 0.9984 - val_loss: 0.0162 - val_accuracy: 0.9968 - 22s/epoch - 6ms/step\n",
      "Epoch 41/50\n",
      "3375/3375 - 20s - loss: 0.0054 - accuracy: 0.9984 - val_loss: 0.0028 - val_accuracy: 0.9990 - 20s/epoch - 6ms/step\n",
      "Epoch 42/50\n",
      "3375/3375 - 20s - loss: 0.0057 - accuracy: 0.9984 - val_loss: 0.0039 - val_accuracy: 0.9985 - 20s/epoch - 6ms/step\n",
      "Epoch 43/50\n",
      "3375/3375 - 20s - loss: 0.0055 - accuracy: 0.9982 - val_loss: 0.0085 - val_accuracy: 0.9973 - 20s/epoch - 6ms/step\n",
      "Epoch 44/50\n",
      "3375/3375 - 21s - loss: 0.0048 - accuracy: 0.9984 - val_loss: 0.0029 - val_accuracy: 0.9993 - 21s/epoch - 6ms/step\n",
      "Epoch 45/50\n",
      "3375/3375 - 19s - loss: 0.0046 - accuracy: 0.9983 - val_loss: 0.0177 - val_accuracy: 0.9965 - 19s/epoch - 6ms/step\n",
      "Epoch 46/50\n",
      "3375/3375 - 20s - loss: 0.0059 - accuracy: 0.9981 - val_loss: 0.0105 - val_accuracy: 0.9972 - 20s/epoch - 6ms/step\n",
      "Epoch 47/50\n",
      "3375/3375 - 19s - loss: 0.0041 - accuracy: 0.9986 - val_loss: 0.0071 - val_accuracy: 0.9977 - 19s/epoch - 6ms/step\n",
      "Epoch 48/50\n",
      "3375/3375 - 20s - loss: 0.0056 - accuracy: 0.9981 - val_loss: 0.0099 - val_accuracy: 0.9967 - 20s/epoch - 6ms/step\n",
      "Epoch 49/50\n",
      "3375/3375 - 22s - loss: 0.0050 - accuracy: 0.9987 - val_loss: 0.0077 - val_accuracy: 0.9985 - 22s/epoch - 6ms/step\n",
      "Epoch 50/50\n",
      "3375/3375 - 19s - loss: 0.0042 - accuracy: 0.9986 - val_loss: 0.0044 - val_accuracy: 0.9988 - 19s/epoch - 6ms/step\n"
     ]
    },
    {
     "data": {
      "text/plain": [
       "<keras.callbacks.History at 0x3bd3bdd20>"
      ]
     },
     "execution_count": 1118,
     "metadata": {},
     "output_type": "execute_result"
    }
   ],
   "source": [
    "NUMERO_EPOCAS = 50\n",
    "\n",
    "modelo.fit(\n",
    "    datos_entreno, \n",
    "    epochs = NUMERO_EPOCAS, \n",
    "    validation_data = (entradas_validacion, metas_validacion),\n",
    "    validation_steps = 10,\n",
    "    verbose = 2\n",
    ")"
   ]
  },
  {
   "cell_type": "markdown",
   "metadata": {},
   "source": [
    "## Probar el modelo\n",
    "\n",
    "Como se discutió en clase, luego del entrenamiento (con los datos de entrenamiento), y la validación (con los datos de validación), probamos el potencial de predicción final de nuestro modelo con el conjunto de datos de prueba que el algoritmo NUNCA ha visto antes.\n",
    "\n",
    "Es muy importante reconocer que estar \"jugando\" con los hiperparámetros sobre-ajusta el conjunto de datos de validación.\n",
    "\n",
    "La prueba es la instancia absolutamente final. Nunca debe probarse el modelo antes de haber completamente ajustado el modelo.\n",
    "\n",
    "Si se ajusta el modelo después de hacer la prueba, se empezará a sobre-ajustar el conjunto de datos de prueba, que echaría \"por los suelos\" el propósito original del mismo."
   ]
  },
  {
   "cell_type": "code",
   "execution_count": 1119,
   "metadata": {},
   "outputs": [
    {
     "name": "stdout",
     "output_type": "stream",
     "text": [
      "1/1 [==============================] - 0s 461ms/step - loss: 0.1424 - accuracy: 0.9832\n"
     ]
    }
   ],
   "source": [
    "perdida_prueba, precision_prueba = modelo.evaluate(datos_prueba)"
   ]
  },
  {
   "cell_type": "code",
   "execution_count": 1120,
   "metadata": {},
   "outputs": [
    {
     "name": "stdout",
     "output_type": "stream",
     "text": [
      "Pérdida de prueba: 0.14\n",
      "Precisión de prueba: 98.32%\n"
     ]
    }
   ],
   "source": [
    "# Si se desea, se puede aplicar un formateo \"bonito\"\n",
    "print('Pérdida de prueba: {:.2f}'.format(perdida_prueba))\n",
    "print('Precisión de prueba: {:.2f}%'.format(precision_prueba * 100))"
   ]
  },
  {
   "cell_type": "markdown",
   "metadata": {},
   "source": [
    "Utilizando el modelo inicial y los hiperparámetros dados en este notebook, la precisión de prueba final debe ser aproximadamente 97%.\n",
    "\n",
    "Cada vez que se ejecuta el código, se obtiene una precisión diferente debido a la \"barajeada\" de las tandas, los pesos se inicializan en forma diferente, etc.\n",
    "\n",
    "Finalmente, intencionalmente se ha llegado a una solución subóptima, para que pueda tener la oportunidad de mejorarla."
   ]
  }
 ],
 "metadata": {
  "kernelspec": {
   "display_name": "Python 3 (ipykernel)",
   "language": "python",
   "name": "python3"
  },
  "language_info": {
   "codemirror_mode": {
    "name": "ipython",
    "version": 3
   },
   "file_extension": ".py",
   "mimetype": "text/x-python",
   "name": "python",
   "nbconvert_exporter": "python",
   "pygments_lexer": "ipython3",
   "version": "3.10.10"
  }
 },
 "nbformat": 4,
 "nbformat_minor": 4
}
